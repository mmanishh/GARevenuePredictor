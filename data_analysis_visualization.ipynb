{
 "cells": [
  {
   "cell_type": "code",
   "execution_count": 1,
   "metadata": {},
   "outputs": [],
   "source": [
    "import numpy as np \n",
    "import pandas as pd \n",
    "import json\n",
    "#import bq_helper\n",
    "from pandas.io.json import json_normalize\n",
    "import seaborn as sns \n",
    "import matplotlib.pyplot as plt\n",
    "%matplotlib inline\n",
    "plt.style.use('ggplot')\n",
    "import lightgbm as lgb\n",
    "\n",
    "pd.set_option('display.max_columns', 100)\n",
    "\n",
    "\n",
    "from sklearn.preprocessing import LabelEncoder\n",
    "from sklearn.model_selection import TimeSeriesSplit, KFold\n",
    "from sklearn.metrics import mean_squared_error"
   ]
  },
  {
   "cell_type": "code",
   "execution_count": 5,
   "metadata": {},
   "outputs": [],
   "source": [
    "def load_df(csv_path='data/train.csv', JSON_COLUMNS = ['device', 'geoNetwork', 'totals', 'trafficSource'],nrows=10000):\n",
    "\n",
    "    df = pd.read_csv(csv_path, \n",
    "                     converters={column: json.loads for column in JSON_COLUMNS}, \n",
    "                     dtype={'fullVisitorId': 'str'},nrows=nrows)\n",
    "    \n",
    "    for column in JSON_COLUMNS:\n",
    "        column_as_df = json_normalize(df[column])\n",
    "        column_as_df.columns = [f\"{column}.{subcolumn}\" for subcolumn in column_as_df.columns]\n",
    "        df = df.drop(column, axis=1).merge(column_as_df, right_index=True, left_index=True)\n",
    "\n",
    "    return df"
   ]
  },
  {
   "cell_type": "code",
   "execution_count": 6,
   "metadata": {},
   "outputs": [
    {
     "name": "stdout",
     "output_type": "stream",
     "text": [
      "CPU times: user 1.77 s, sys: 0 ns, total: 1.77 s\n",
      "Wall time: 1.77 s\n"
     ]
    }
   ],
   "source": [
    "%%time\n",
    "train = load_df('data/train.csv')"
   ]
  },
  {
   "cell_type": "code",
   "execution_count": 7,
   "metadata": {},
   "outputs": [
    {
     "name": "stdout",
     "output_type": "stream",
     "text": [
      "CPU times: user 1.7 s, sys: 8 ms, total: 1.7 s\n",
      "Wall time: 1.97 s\n"
     ]
    }
   ],
   "source": [
    "%%time\n",
    "test = load_df('data/test.csv')"
   ]
  },
  {
   "cell_type": "code",
   "execution_count": 8,
   "metadata": {},
   "outputs": [],
   "source": [
    "#converting date to readable format \n",
    "train['date'] = pd.to_datetime(train['date'].apply(lambda x: str(x)[:4] + '-' + str(x)[4:6] + '-' + str(x)[6:]))\n",
    "test['date'] = pd.to_datetime(test['date'].apply(lambda x: str(x)[:4] + '-' + str(x)[4:6] + '-' + str(x)[6:]))"
   ]
  },
  {
   "cell_type": "markdown",
   "metadata": {},
   "source": [
    "#Analysis on missing values "
   ]
  },
  {
   "cell_type": "code",
   "execution_count": 76,
   "metadata": {},
   "outputs": [],
   "source": [
    "def checkMissingValue():\n",
    "    count =0\n",
    "    for col in train.columns:\n",
    "        if train[col].isnull().sum() > 0:\n",
    "            rate = train[col].isnull().sum() * 100 / train.shape[0]\n",
    "            print(f'Column {col} has {rate:.4f}% missing values.')\n",
    "            count +=1\n",
    "        if train[col].dtype == 'object':\n",
    "            if (train[col] == 'not available in demo dataset').sum() > 0:\n",
    "                rate = (train[col] == 'not available in demo dataset').sum() * 100 / train.shape[0]\n",
    "                print(f'Column {col} has {rate:.4f}% values not available in dataset.')\n",
    "                count +=1\n",
    "    print(f\"There are {count} columns having missing value or not available in dataset\")"
   ]
  },
  {
   "cell_type": "code",
   "execution_count": 77,
   "metadata": {},
   "outputs": [
    {
     "name": "stdout",
     "output_type": "stream",
     "text": [
      "Column device.browserSize has 100.0000% values not available in dataset.\n",
      "Column device.browserVersion has 100.0000% values not available in dataset.\n",
      "Column device.flashVersion has 100.0000% values not available in dataset.\n",
      "Column device.language has 100.0000% values not available in dataset.\n",
      "Column device.mobileDeviceBranding has 100.0000% values not available in dataset.\n",
      "Column device.mobileDeviceInfo has 100.0000% values not available in dataset.\n",
      "Column device.mobileDeviceMarketingName has 100.0000% values not available in dataset.\n",
      "Column device.mobileDeviceModel has 100.0000% values not available in dataset.\n",
      "Column device.mobileInputSelector has 100.0000% values not available in dataset.\n",
      "Column device.operatingSystemVersion has 100.0000% values not available in dataset.\n",
      "Column device.screenColors has 100.0000% values not available in dataset.\n",
      "Column device.screenResolution has 100.0000% values not available in dataset.\n",
      "Column geoNetwork.city has 59.4100% values not available in dataset.\n",
      "Column geoNetwork.cityId has 100.0000% values not available in dataset.\n",
      "Column geoNetwork.latitude has 100.0000% values not available in dataset.\n",
      "Column geoNetwork.longitude has 100.0000% values not available in dataset.\n",
      "Column geoNetwork.metro has 59.4100% values not available in dataset.\n",
      "Column geoNetwork.networkLocation has 100.0000% values not available in dataset.\n",
      "Column geoNetwork.region has 59.4100% values not available in dataset.\n",
      "Column totals.bounces has 46.8200% missing values.\n",
      "Column totals.newVisits has 22.9900% missing values.\n",
      "Column trafficSource.adContent has 98.4900% missing values.\n",
      "Column trafficSource.adwordsClickInfo.adNetworkType has 97.5000% missing values.\n",
      "Column trafficSource.adwordsClickInfo.criteriaParameters has 100.0000% values not available in dataset.\n",
      "Column trafficSource.adwordsClickInfo.gclId has 97.4700% missing values.\n",
      "Column trafficSource.adwordsClickInfo.page has 97.5000% missing values.\n",
      "Column trafficSource.adwordsClickInfo.slot has 97.5000% missing values.\n",
      "Column trafficSource.keyword has 49.9600% missing values.\n",
      "Column trafficSource.referralPath has 69.5900% missing values.\n",
      "There are 29 columns having missing value or not available in dataset\n"
     ]
    }
   ],
   "source": [
    "checkMissingValue()"
   ]
  },
  {
   "cell_type": "markdown",
   "metadata": {},
   "source": [
    "# Handling missing values"
   ]
  },
  {
   "cell_type": "code",
   "execution_count": 37,
   "metadata": {},
   "outputs": [],
   "source": [
    "# some data processing\n",
    "train['trafficSource.adwordsClickInfo.isVideoAd'].fillna(True, inplace=True)\n",
    "test['trafficSource.adwordsClickInfo.isVideoAd'].fillna(True, inplace=True)\n",
    "train['trafficSource.isTrueDirect'].fillna(False, inplace=True)\n",
    "test['trafficSource.isTrueDirect'].fillna(False, inplace=True)"
   ]
  },
  {
   "cell_type": "code",
   "execution_count": 39,
   "metadata": {},
   "outputs": [],
   "source": [
    "#filling missing transactionRevenue by 0\n",
    "train['totals.transactionRevenue'].fillna(0,inplace=True)"
   ]
  },
  {
   "cell_type": "code",
   "execution_count": 78,
   "metadata": {},
   "outputs": [
    {
     "name": "stdout",
     "output_type": "stream",
     "text": [
      "<class 'pandas.core.frame.DataFrame'>\n",
      "RangeIndex: 10000 entries, 0 to 9999\n",
      "Data columns (total 54 columns):\n",
      "channelGrouping                                      10000 non-null object\n",
      "date                                                 10000 non-null datetime64[ns]\n",
      "fullVisitorId                                        10000 non-null object\n",
      "sessionId                                            10000 non-null object\n",
      "socialEngagementType                                 10000 non-null object\n",
      "visitId                                              10000 non-null int64\n",
      "visitNumber                                          10000 non-null float64\n",
      "visitStartTime                                       10000 non-null int64\n",
      "device.browser                                       10000 non-null object\n",
      "device.browserSize                                   10000 non-null object\n",
      "device.browserVersion                                10000 non-null object\n",
      "device.deviceCategory                                10000 non-null object\n",
      "device.flashVersion                                  10000 non-null object\n",
      "device.isMobile                                      10000 non-null bool\n",
      "device.language                                      10000 non-null object\n",
      "device.mobileDeviceBranding                          10000 non-null object\n",
      "device.mobileDeviceInfo                              10000 non-null object\n",
      "device.mobileDeviceMarketingName                     10000 non-null object\n",
      "device.mobileDeviceModel                             10000 non-null object\n",
      "device.mobileInputSelector                           10000 non-null object\n",
      "device.operatingSystem                               10000 non-null object\n",
      "device.operatingSystemVersion                        10000 non-null object\n",
      "device.screenColors                                  10000 non-null object\n",
      "device.screenResolution                              10000 non-null object\n",
      "geoNetwork.city                                      10000 non-null object\n",
      "geoNetwork.cityId                                    10000 non-null object\n",
      "geoNetwork.continent                                 10000 non-null object\n",
      "geoNetwork.country                                   10000 non-null object\n",
      "geoNetwork.latitude                                  10000 non-null object\n",
      "geoNetwork.longitude                                 10000 non-null object\n",
      "geoNetwork.metro                                     10000 non-null object\n",
      "geoNetwork.networkDomain                             10000 non-null object\n",
      "geoNetwork.networkLocation                           10000 non-null object\n",
      "geoNetwork.region                                    10000 non-null object\n",
      "geoNetwork.subContinent                              10000 non-null object\n",
      "totals.bounces                                       5318 non-null object\n",
      "totals.hits                                          10000 non-null float64\n",
      "totals.newVisits                                     7701 non-null object\n",
      "totals.pageviews                                     10000 non-null float64\n",
      "totals.transactionRevenue                            10000 non-null float64\n",
      "totals.visits                                        10000 non-null object\n",
      "trafficSource.adContent                              151 non-null object\n",
      "trafficSource.adwordsClickInfo.adNetworkType         250 non-null object\n",
      "trafficSource.adwordsClickInfo.criteriaParameters    10000 non-null object\n",
      "trafficSource.adwordsClickInfo.gclId                 253 non-null object\n",
      "trafficSource.adwordsClickInfo.isVideoAd             10000 non-null bool\n",
      "trafficSource.adwordsClickInfo.page                  250 non-null object\n",
      "trafficSource.adwordsClickInfo.slot                  250 non-null object\n",
      "trafficSource.campaign                               10000 non-null object\n",
      "trafficSource.isTrueDirect                           10000 non-null bool\n",
      "trafficSource.keyword                                5004 non-null object\n",
      "trafficSource.medium                                 10000 non-null object\n",
      "trafficSource.referralPath                           3041 non-null object\n",
      "trafficSource.source                                 10000 non-null object\n",
      "dtypes: bool(3), datetime64[ns](1), float64(4), int64(2), object(44)\n",
      "memory usage: 3.9+ MB\n"
     ]
    }
   ],
   "source": [
    "train.info()"
   ]
  },
  {
   "cell_type": "code",
   "execution_count": 72,
   "metadata": {},
   "outputs": [],
   "source": [
    "# converting columns into more reasonable format\n",
    "for col in ['visitNumber', 'totals.hits', 'totals.pageviews', 'totals.transactionRevenue']:\n",
    "    train[col] = train[col].astype(float)"
   ]
  },
  {
   "cell_type": "markdown",
   "metadata": {},
   "source": [
    "# Visualization of transaction revenue"
   ]
  },
  {
   "cell_type": "code",
   "execution_count": 73,
   "metadata": {},
   "outputs": [
    {
     "data": {
      "image/png": "[encoded data removed]",
      "text/plain": [
       "<matplotlib.figure.Figure at 0x7f791865d208>"
      ]
     },
     "metadata": {},
     "output_type": "display_data"
    }
   ],
   "source": [
    "plt.hist(np.log1p(train.loc[train['totals.transactionRevenue'].isna() == False, 'totals.transactionRevenue']));\n",
    "plt.title('Distribution of revenue');"
   ]
  },
  {
   "cell_type": "markdown",
   "metadata": {},
   "source": [
    "# Total revenue per user"
   ]
  },
  {
   "cell_type": "code",
   "execution_count": 71,
   "metadata": {},
   "outputs": [
    {
     "data": {
      "image/png": "[encoded data removed]",
      "text/plain": [
       "<matplotlib.figure.Figure at 0x7f79185eff98>"
      ]
     },
     "metadata": {},
     "output_type": "display_data"
    }
   ],
   "source": [
    "grouped = train.groupby('fullVisitorId')['totals.transactionRevenue'].sum().reset_index()\n",
    "grouped = grouped.loc[grouped['totals.transactionRevenue'].isna() == False]\n",
    "plt.hist(np.log(grouped.loc[grouped['totals.transactionRevenue'] > 0, 'totals.transactionRevenue']));\n",
    "plt.title('Distribution of total revenue per user');"
   ]
  },
  {
   "cell_type": "markdown",
   "metadata": {},
   "source": [
    "# Data analysis for transaction which has revenue"
   ]
  },
  {
   "cell_type": "code",
   "execution_count": 79,
   "metadata": {},
   "outputs": [],
   "source": [
    "#converting transactionRevenue to its log\n",
    "\n",
    "train['totals.transactionRevenue'] = np.log1p(train['totals.transactionRevenue'])\n"
   ]
  },
  {
   "cell_type": "code",
   "execution_count": 80,
   "metadata": {},
   "outputs": [],
   "source": [
    "#taking only transaction who had revenue\n",
    "train_ = train.loc[train['totals.transactionRevenue'] > 0.0]\n"
   ]
  },
  {
   "cell_type": "code",
   "execution_count": 81,
   "metadata": {},
   "outputs": [],
   "source": [
    "#function to show count and mean aggregated by col for transactionRevenue\n",
    "def show_count_sum(df, col):\n",
    "    return df.groupby(col).agg({'totals.transactionRevenue': ['count', 'mean']}).sort_values(('totals.transactionRevenue', 'count'), ascending=False).head()\n"
   ]
  },
  {
   "cell_type": "markdown",
   "metadata": {},
   "source": [
    "# geoNetwork"
   ]
  },
  {
   "cell_type": "code",
   "execution_count": 82,
   "metadata": {},
   "outputs": [
    {
     "data": {
      "text/html": [
       "<div>\n",
       "<style scoped>\n",
       "    .dataframe tbody tr th:only-of-type {\n",
       "        vertical-align: middle;\n",
       "    }\n",
       "\n",
       "    .dataframe tbody tr th {\n",
       "        vertical-align: top;\n",
       "    }\n",
       "\n",
       "    .dataframe thead tr th {\n",
       "        text-align: left;\n",
       "    }\n",
       "\n",
       "    .dataframe thead tr:last-of-type th {\n",
       "        text-align: right;\n",
       "    }\n",
       "</style>\n",
       "<table border=\"1\" class=\"dataframe\">\n",
       "  <thead>\n",
       "    <tr>\n",
       "      <th></th>\n",
       "      <th colspan=\"2\" halign=\"left\">totals.transactionRevenue</th>\n",
       "    </tr>\n",
       "    <tr>\n",
       "      <th></th>\n",
       "      <th>count</th>\n",
       "      <th>mean</th>\n",
       "    </tr>\n",
       "    <tr>\n",
       "      <th>geoNetwork.subContinent</th>\n",
       "      <th></th>\n",
       "      <th></th>\n",
       "    </tr>\n",
       "  </thead>\n",
       "  <tbody>\n",
       "    <tr>\n",
       "      <th>Northern America</th>\n",
       "      <td>90</td>\n",
       "      <td>17.780558</td>\n",
       "    </tr>\n",
       "    <tr>\n",
       "      <th>Caribbean</th>\n",
       "      <td>1</td>\n",
       "      <td>16.810743</td>\n",
       "    </tr>\n",
       "  </tbody>\n",
       "</table>\n",
       "</div>"
      ],
      "text/plain": [
       "                        totals.transactionRevenue           \n",
       "                                            count       mean\n",
       "geoNetwork.subContinent                                     \n",
       "Northern America                               90  17.780558\n",
       "Caribbean                                       1  16.810743"
      ]
     },
     "execution_count": 82,
     "metadata": {},
     "output_type": "execute_result"
    }
   ],
   "source": [
    "show_count_sum(train_, 'geoNetwork.subContinent')"
   ]
  },
  {
   "cell_type": "markdown",
   "metadata": {},
   "source": [
    "Most of the transaction is from Northern America. Lets dive into Northern America and see distribution about metro, networkDomain and region."
   ]
  },
  {
   "cell_type": "code",
   "execution_count": 91,
   "metadata": {
    "scrolled": true
   },
   "outputs": [
    {
     "data": {
      "text/html": [
       "<div>\n",
       "<style scoped>\n",
       "    .dataframe tbody tr th:only-of-type {\n",
       "        vertical-align: middle;\n",
       "    }\n",
       "\n",
       "    .dataframe tbody tr th {\n",
       "        vertical-align: top;\n",
       "    }\n",
       "\n",
       "    .dataframe thead tr th {\n",
       "        text-align: left;\n",
       "    }\n",
       "\n",
       "    .dataframe thead tr:last-of-type th {\n",
       "        text-align: right;\n",
       "    }\n",
       "</style>\n",
       "<table border=\"1\" class=\"dataframe\">\n",
       "  <thead>\n",
       "    <tr>\n",
       "      <th></th>\n",
       "      <th colspan=\"2\" halign=\"left\">totals.transactionRevenue</th>\n",
       "    </tr>\n",
       "    <tr>\n",
       "      <th></th>\n",
       "      <th>count</th>\n",
       "      <th>mean</th>\n",
       "    </tr>\n",
       "    <tr>\n",
       "      <th>geoNetwork.metro</th>\n",
       "      <th></th>\n",
       "      <th></th>\n",
       "    </tr>\n",
       "  </thead>\n",
       "  <tbody>\n",
       "    <tr>\n",
       "      <th>not available in demo dataset</th>\n",
       "      <td>31</td>\n",
       "      <td>17.420974</td>\n",
       "    </tr>\n",
       "    <tr>\n",
       "      <th>San Francisco-Oakland-San Jose CA</th>\n",
       "      <td>27</td>\n",
       "      <td>17.974056</td>\n",
       "    </tr>\n",
       "    <tr>\n",
       "      <th>New York NY</th>\n",
       "      <td>10</td>\n",
       "      <td>18.435341</td>\n",
       "    </tr>\n",
       "    <tr>\n",
       "      <th>Chicago IL</th>\n",
       "      <td>8</td>\n",
       "      <td>18.264101</td>\n",
       "    </tr>\n",
       "    <tr>\n",
       "      <th>Seattle-Tacoma WA</th>\n",
       "      <td>6</td>\n",
       "      <td>17.573569</td>\n",
       "    </tr>\n",
       "  </tbody>\n",
       "</table>\n",
       "</div>"
      ],
      "text/plain": [
       "                                  totals.transactionRevenue           \n",
       "                                                      count       mean\n",
       "geoNetwork.metro                                                      \n",
       "not available in demo dataset                            31  17.420974\n",
       "San Francisco-Oakland-San Jose CA                        27  17.974056\n",
       "New York NY                                              10  18.435341\n",
       "Chicago IL                                                8  18.264101\n",
       "Seattle-Tacoma WA                                         6  17.573569"
      ]
     },
     "execution_count": 91,
     "metadata": {},
     "output_type": "execute_result"
    }
   ],
   "source": [
    "show_count_sum(train_.loc[train_['geoNetwork.subContinent'] == 'Northern America'], 'geoNetwork.metro')"
   ]
  },
  {
   "cell_type": "code",
   "execution_count": 92,
   "metadata": {},
   "outputs": [
    {
     "data": {
      "text/html": [
       "<div>\n",
       "<style scoped>\n",
       "    .dataframe tbody tr th:only-of-type {\n",
       "        vertical-align: middle;\n",
       "    }\n",
       "\n",
       "    .dataframe tbody tr th {\n",
       "        vertical-align: top;\n",
       "    }\n",
       "\n",
       "    .dataframe thead tr th {\n",
       "        text-align: left;\n",
       "    }\n",
       "\n",
       "    .dataframe thead tr:last-of-type th {\n",
       "        text-align: right;\n",
       "    }\n",
       "</style>\n",
       "<table border=\"1\" class=\"dataframe\">\n",
       "  <thead>\n",
       "    <tr>\n",
       "      <th></th>\n",
       "      <th colspan=\"2\" halign=\"left\">totals.transactionRevenue</th>\n",
       "    </tr>\n",
       "    <tr>\n",
       "      <th></th>\n",
       "      <th>count</th>\n",
       "      <th>mean</th>\n",
       "    </tr>\n",
       "    <tr>\n",
       "      <th>geoNetwork.networkDomain</th>\n",
       "      <th></th>\n",
       "      <th></th>\n",
       "    </tr>\n",
       "  </thead>\n",
       "  <tbody>\n",
       "    <tr>\n",
       "      <th>(not set)</th>\n",
       "      <td>64</td>\n",
       "      <td>17.881140</td>\n",
       "    </tr>\n",
       "    <tr>\n",
       "      <th>comcast.net</th>\n",
       "      <td>8</td>\n",
       "      <td>17.825596</td>\n",
       "    </tr>\n",
       "    <tr>\n",
       "      <th>unknown.unknown</th>\n",
       "      <td>3</td>\n",
       "      <td>18.122527</td>\n",
       "    </tr>\n",
       "    <tr>\n",
       "      <th>comcastbusiness.net</th>\n",
       "      <td>2</td>\n",
       "      <td>17.558785</td>\n",
       "    </tr>\n",
       "    <tr>\n",
       "      <th>rcn.com</th>\n",
       "      <td>2</td>\n",
       "      <td>16.728021</td>\n",
       "    </tr>\n",
       "  </tbody>\n",
       "</table>\n",
       "</div>"
      ],
      "text/plain": [
       "                         totals.transactionRevenue           \n",
       "                                             count       mean\n",
       "geoNetwork.networkDomain                                     \n",
       "(not set)                                       64  17.881140\n",
       "comcast.net                                      8  17.825596\n",
       "unknown.unknown                                  3  18.122527\n",
       "comcastbusiness.net                              2  17.558785\n",
       "rcn.com                                          2  16.728021"
      ]
     },
     "execution_count": 92,
     "metadata": {},
     "output_type": "execute_result"
    }
   ],
   "source": [
    "show_count_sum(train_.loc[train_['geoNetwork.subContinent'] == 'Northern America'], 'geoNetwork.networkDomain')"
   ]
  },
  {
   "cell_type": "code",
   "execution_count": 93,
   "metadata": {},
   "outputs": [
    {
     "data": {
      "text/html": [
       "<div>\n",
       "<style scoped>\n",
       "    .dataframe tbody tr th:only-of-type {\n",
       "        vertical-align: middle;\n",
       "    }\n",
       "\n",
       "    .dataframe tbody tr th {\n",
       "        vertical-align: top;\n",
       "    }\n",
       "\n",
       "    .dataframe thead tr th {\n",
       "        text-align: left;\n",
       "    }\n",
       "\n",
       "    .dataframe thead tr:last-of-type th {\n",
       "        text-align: right;\n",
       "    }\n",
       "</style>\n",
       "<table border=\"1\" class=\"dataframe\">\n",
       "  <thead>\n",
       "    <tr>\n",
       "      <th></th>\n",
       "      <th colspan=\"2\" halign=\"left\">totals.transactionRevenue</th>\n",
       "    </tr>\n",
       "    <tr>\n",
       "      <th></th>\n",
       "      <th>count</th>\n",
       "      <th>mean</th>\n",
       "    </tr>\n",
       "    <tr>\n",
       "      <th>geoNetwork.region</th>\n",
       "      <th></th>\n",
       "      <th></th>\n",
       "    </tr>\n",
       "  </thead>\n",
       "  <tbody>\n",
       "    <tr>\n",
       "      <th>not available in demo dataset</th>\n",
       "      <td>31</td>\n",
       "      <td>17.420974</td>\n",
       "    </tr>\n",
       "    <tr>\n",
       "      <th>California</th>\n",
       "      <td>29</td>\n",
       "      <td>17.878226</td>\n",
       "    </tr>\n",
       "    <tr>\n",
       "      <th>New York</th>\n",
       "      <td>10</td>\n",
       "      <td>18.435341</td>\n",
       "    </tr>\n",
       "    <tr>\n",
       "      <th>Illinois</th>\n",
       "      <td>8</td>\n",
       "      <td>18.264101</td>\n",
       "    </tr>\n",
       "    <tr>\n",
       "      <th>Washington</th>\n",
       "      <td>6</td>\n",
       "      <td>17.573569</td>\n",
       "    </tr>\n",
       "  </tbody>\n",
       "</table>\n",
       "</div>"
      ],
      "text/plain": [
       "                              totals.transactionRevenue           \n",
       "                                                  count       mean\n",
       "geoNetwork.region                                                 \n",
       "not available in demo dataset                        31  17.420974\n",
       "California                                           29  17.878226\n",
       "New York                                             10  18.435341\n",
       "Illinois                                              8  18.264101\n",
       "Washington                                            6  17.573569"
      ]
     },
     "execution_count": 93,
     "metadata": {},
     "output_type": "execute_result"
    }
   ],
   "source": [
    "show_count_sum(train_.loc[train_['geoNetwork.subContinent'] == 'Northern America'], 'geoNetwork.region')"
   ]
  },
  {
   "cell_type": "markdown",
   "metadata": {},
   "source": [
    "Conclusion : Continent North America , with metro not available in dataset , with networkDomain (not set) with region not available in dataset have more revenue"
   ]
  },
  {
   "cell_type": "markdown",
   "metadata": {},
   "source": [
    "# Traffic Source"
   ]
  },
  {
   "cell_type": "code",
   "execution_count": 83,
   "metadata": {},
   "outputs": [
    {
     "data": {
      "text/html": [
       "<div>\n",
       "<style scoped>\n",
       "    .dataframe tbody tr th:only-of-type {\n",
       "        vertical-align: middle;\n",
       "    }\n",
       "\n",
       "    .dataframe tbody tr th {\n",
       "        vertical-align: top;\n",
       "    }\n",
       "\n",
       "    .dataframe thead tr th {\n",
       "        text-align: left;\n",
       "    }\n",
       "\n",
       "    .dataframe thead tr:last-of-type th {\n",
       "        text-align: right;\n",
       "    }\n",
       "</style>\n",
       "<table border=\"1\" class=\"dataframe\">\n",
       "  <thead>\n",
       "    <tr>\n",
       "      <th></th>\n",
       "      <th colspan=\"2\" halign=\"left\">totals.transactionRevenue</th>\n",
       "    </tr>\n",
       "    <tr>\n",
       "      <th></th>\n",
       "      <th>count</th>\n",
       "      <th>mean</th>\n",
       "    </tr>\n",
       "    <tr>\n",
       "      <th>trafficSource.medium</th>\n",
       "      <th></th>\n",
       "      <th></th>\n",
       "    </tr>\n",
       "  </thead>\n",
       "  <tbody>\n",
       "    <tr>\n",
       "      <th>referral</th>\n",
       "      <td>52</td>\n",
       "      <td>18.091034</td>\n",
       "    </tr>\n",
       "    <tr>\n",
       "      <th>organic</th>\n",
       "      <td>24</td>\n",
       "      <td>17.283712</td>\n",
       "    </tr>\n",
       "    <tr>\n",
       "      <th>(none)</th>\n",
       "      <td>12</td>\n",
       "      <td>17.345568</td>\n",
       "    </tr>\n",
       "    <tr>\n",
       "      <th>cpm</th>\n",
       "      <td>2</td>\n",
       "      <td>18.771761</td>\n",
       "    </tr>\n",
       "    <tr>\n",
       "      <th>cpc</th>\n",
       "      <td>1</td>\n",
       "      <td>15.827743</td>\n",
       "    </tr>\n",
       "  </tbody>\n",
       "</table>\n",
       "</div>"
      ],
      "text/plain": [
       "                     totals.transactionRevenue           \n",
       "                                         count       mean\n",
       "trafficSource.medium                                     \n",
       "referral                                    52  18.091034\n",
       "organic                                     24  17.283712\n",
       "(none)                                      12  17.345568\n",
       "cpm                                          2  18.771761\n",
       "cpc                                          1  15.827743"
      ]
     },
     "execution_count": 83,
     "metadata": {},
     "output_type": "execute_result"
    }
   ],
   "source": [
    "show_count_sum(train_, 'trafficSource.medium')\n"
   ]
  },
  {
   "cell_type": "markdown",
   "metadata": {},
   "source": [
    "Most of the transaction is form referral"
   ]
  },
  {
   "cell_type": "code",
   "execution_count": null,
   "metadata": {},
   "outputs": [],
   "source": []
  }
 ],
 "metadata": {
  "kernelspec": {
   "display_name": "Python 3",
   "language": "python",
   "name": "python3"
  },
  "language_info": {
   "codemirror_mode": {
    "name": "ipython",
    "version": 3
   },
   "file_extension": ".py",
   "mimetype": "text/x-python",
   "name": "python",
   "nbconvert_exporter": "python",
   "pygments_lexer": "ipython3",
   "version": "3.6.4"
  }
 },
 "nbformat": 4,
 "nbformat_minor": 2
}
